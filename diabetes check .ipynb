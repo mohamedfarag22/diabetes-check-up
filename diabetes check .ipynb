{
 "cells": [
  {
   "cell_type": "code",
   "execution_count": 3,
   "id": "8c1d59e8",
   "metadata": {},
   "outputs": [
    {
     "name": "stdout",
     "output_type": "stream",
     "text": [
      "Which glucose level would you like to check?\n",
      "1. Fasting Glucose\n",
      "2. Random Glucose\n",
      "3. HbA1c\n",
      "Enter your choice (1-3): 3\n",
      "Enter HbA1c level: 4.80\n",
      "You are normal\n"
     ]
    }
   ],
   "source": [
    "class DiabetesChecker:\n",
    "    @staticmethod\n",
    "    def check_fasting_glucose(fasting_glucose):\n",
    "        if fasting_glucose > 100:\n",
    "            return \"Not Normal\"\n",
    "        else:\n",
    "            return \"Normal\"\n",
    "\n",
    "    @staticmethod\n",
    "    def check_random_glucose(random_glucose):\n",
    "        if random_glucose > 140:\n",
    "            return \"Not Normal\"\n",
    "        else:\n",
    "            return \"Normal\"\n",
    "\n",
    "    @staticmethod\n",
    "    def check_HbA1c(HbA1c):\n",
    "        if HbA1c > 6.5:\n",
    "            return \"Not Normal\"\n",
    "        else:\n",
    "            return \"Normal\"\n",
    "\n",
    "    @staticmethod\n",
    "    def check_diabetes():\n",
    "        print(\"Which glucose level would you like to check?\")\n",
    "        print(\"1. Fasting Glucose\")\n",
    "        print(\"2. Random Glucose\")\n",
    "        print(\"3. HbA1c\")\n",
    "\n",
    "        choice = int(input(\"Enter your choice (1-3): \"))\n",
    "\n",
    "        if choice == 1:\n",
    "            fasting_glucose = int(input(\"Enter fasting glucose level: \"))\n",
    "            result = DiabetesChecker.check_fasting_glucose(fasting_glucose)\n",
    "        elif choice == 2:\n",
    "            random_glucose = int(input(\"Enter random glucose level: \"))\n",
    "            result = DiabetesChecker.check_random_glucose(random_glucose)\n",
    "        elif choice == 3:\n",
    "            HbA1c = float(input(\"Enter HbA1c level: \"))\n",
    "            result = DiabetesChecker.check_HbA1c(HbA1c)\n",
    "        else:\n",
    "            print(\"Invalid choice\")\n",
    "            return\n",
    "\n",
    "        if result == \"Not Normal\":\n",
    "            print(\"You have diabetes\")\n",
    "        else:\n",
    "            print(\"You are normal\")\n",
    "\n",
    "\n",
    "DiabetesChecker.check_diabetes()"
   ]
  }
 ],
 "metadata": {
  "kernelspec": {
   "display_name": "Python 3 (ipykernel)",
   "language": "python",
   "name": "python3"
  },
  "language_info": {
   "codemirror_mode": {
    "name": "ipython",
    "version": 3
   },
   "file_extension": ".py",
   "mimetype": "text/x-python",
   "name": "python",
   "nbconvert_exporter": "python",
   "pygments_lexer": "ipython3",
   "version": "3.10.3"
  }
 },
 "nbformat": 4,
 "nbformat_minor": 5
}
